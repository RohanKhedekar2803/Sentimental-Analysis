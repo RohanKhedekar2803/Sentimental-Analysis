{
  "nbformat": 4,
  "nbformat_minor": 0,
  "metadata": {
    "colab": {
      "name": "sentimental_analysis.ipynb",
      "provenance": [],
      "collapsed_sections": []
    },
    "kernelspec": {
      "name": "python3",
      "display_name": "Python 3"
    },
    "language_info": {
      "name": "python"
    }
  },
  "cells": [
    {
      "cell_type": "code",
      "metadata": {
        "id": "vbtt_6WuFEqn"
      },
      "source": [
        "!pip install turicreate \n",
        "import turicreate as tc\n",
        "from turicreate import SFrame"
      ],
      "execution_count": null,
      "outputs": []
    },
    {
      "cell_type": "code",
      "metadata": {
        "id": "BnQCqo6sFjLP"
      },
      "source": [
        "sf=tc.SFrame('AllProductReviews.csv')\n"
      ],
      "execution_count": null,
      "outputs": []
    },
    {
      "cell_type": "code",
      "metadata": {
        "id": "fwhips83RbT-"
      },
      "source": [
        "sf.head(2)"
      ],
      "execution_count": null,
      "outputs": []
    },
    {
      "cell_type": "markdown",
      "metadata": {
        "id": "-OKwqfqiRYd8"
      },
      "source": [
        "# **adding  word count vector**"
      ]
    },
    {
      "cell_type": "code",
      "metadata": {
        "id": "1CmQl4rfRc5b"
      },
      "source": [
        "sf['word_count']=tc.text_analytics.count_words(sf['ReviewBody'])"
      ],
      "execution_count": null,
      "outputs": []
    },
    {
      "cell_type": "code",
      "metadata": {
        "id": "nRg7dTvmSF3O",
        "colab": {
          "base_uri": "https://localhost:8080/",
          "height": 811
        },
        "outputId": "bd0d8911-acbc-4a70-c7a2-43f7b5edd6bf"
      },
      "source": [
        "sf.head(10)\n"
      ],
      "execution_count": null,
      "outputs": [
        {
          "output_type": "execute_result",
          "data": {
            "text/html": [
              "<div style=\"max-height:1000px;max-width:1500px;overflow:auto;\"><table frame=\"box\" rules=\"cols\">\n",
              "    <tr>\n",
              "        <th style=\"padding-left: 1em; padding-right: 1em; text-align: center\">ReviewTitle</th>\n",
              "        <th style=\"padding-left: 1em; padding-right: 1em; text-align: center\">ReviewBody</th>\n",
              "        <th style=\"padding-left: 1em; padding-right: 1em; text-align: center\">ReviewStar</th>\n",
              "        <th style=\"padding-left: 1em; padding-right: 1em; text-align: center\">Product</th>\n",
              "    </tr>\n",
              "    <tr>\n",
              "        <td style=\"padding-left: 1em; padding-right: 1em; text-align: center; vertical-align: top\">Honest review of an edm<br>music lover\\n ...</td>\n",
              "        <td style=\"padding-left: 1em; padding-right: 1em; text-align: center; vertical-align: top\">No doubt it has a great<br>bass and to a great ...</td>\n",
              "        <td style=\"padding-left: 1em; padding-right: 1em; text-align: center; vertical-align: top\">3</td>\n",
              "        <td style=\"padding-left: 1em; padding-right: 1em; text-align: center; vertical-align: top\">boAt Rockerz 255</td>\n",
              "    </tr>\n",
              "    <tr>\n",
              "        <td style=\"padding-left: 1em; padding-right: 1em; text-align: center; vertical-align: top\">Unreliable earphones with<br>high cost\\n ...</td>\n",
              "        <td style=\"padding-left: 1em; padding-right: 1em; text-align: center; vertical-align: top\">This  earphones are<br>unreliable, i bought it ...</td>\n",
              "        <td style=\"padding-left: 1em; padding-right: 1em; text-align: center; vertical-align: top\">1</td>\n",
              "        <td style=\"padding-left: 1em; padding-right: 1em; text-align: center; vertical-align: top\">boAt Rockerz 255</td>\n",
              "    </tr>\n",
              "    <tr>\n",
              "        <td style=\"padding-left: 1em; padding-right: 1em; text-align: center; vertical-align: top\">Really good and<br>durable.\\n ...</td>\n",
              "        <td style=\"padding-left: 1em; padding-right: 1em; text-align: center; vertical-align: top\">i bought itfor 999,I<br>purchased it second t ...</td>\n",
              "        <td style=\"padding-left: 1em; padding-right: 1em; text-align: center; vertical-align: top\">4</td>\n",
              "        <td style=\"padding-left: 1em; padding-right: 1em; text-align: center; vertical-align: top\">boAt Rockerz 255</td>\n",
              "    </tr>\n",
              "    <tr>\n",
              "        <td style=\"padding-left: 1em; padding-right: 1em; text-align: center; vertical-align: top\">stopped working in just<br>14 days\\n ...</td>\n",
              "        <td style=\"padding-left: 1em; padding-right: 1em; text-align: center; vertical-align: top\">Its sound quality is<br>adorable. overall it was ...</td>\n",
              "        <td style=\"padding-left: 1em; padding-right: 1em; text-align: center; vertical-align: top\">1</td>\n",
              "        <td style=\"padding-left: 1em; padding-right: 1em; text-align: center; vertical-align: top\">boAt Rockerz 255</td>\n",
              "    </tr>\n",
              "    <tr>\n",
              "        <td style=\"padding-left: 1em; padding-right: 1em; text-align: center; vertical-align: top\">Just Awesome Wireless<br>Headphone under ...</td>\n",
              "        <td style=\"padding-left: 1em; padding-right: 1em; text-align: center; vertical-align: top\">Its Awesome... Good sound<br>quality &amp; 8-9 hrs bat ...</td>\n",
              "        <td style=\"padding-left: 1em; padding-right: 1em; text-align: center; vertical-align: top\">5</td>\n",
              "        <td style=\"padding-left: 1em; padding-right: 1em; text-align: center; vertical-align: top\">boAt Rockerz 255</td>\n",
              "    </tr>\n",
              "    <tr>\n",
              "        <td style=\"padding-left: 1em; padding-right: 1em; text-align: center; vertical-align: top\">Charging port not<br>working\\n ...</td>\n",
              "        <td style=\"padding-left: 1em; padding-right: 1em; text-align: center; vertical-align: top\">After 11 days, the<br>charging port isn&#x27;t ...</td>\n",
              "        <td style=\"padding-left: 1em; padding-right: 1em; text-align: center; vertical-align: top\">1</td>\n",
              "        <td style=\"padding-left: 1em; padding-right: 1em; text-align: center; vertical-align: top\">boAt Rockerz 255</td>\n",
              "    </tr>\n",
              "    <tr>\n",
              "        <td style=\"padding-left: 1em; padding-right: 1em; text-align: center; vertical-align: top\">Loved the color and sound<br>!!\\n ...</td>\n",
              "        <td style=\"padding-left: 1em; padding-right: 1em; text-align: center; vertical-align: top\">Sound-4.5/5Build<br>quality-4.5/5Battery  ...</td>\n",
              "        <td style=\"padding-left: 1em; padding-right: 1em; text-align: center; vertical-align: top\">4</td>\n",
              "        <td style=\"padding-left: 1em; padding-right: 1em; text-align: center; vertical-align: top\">boAt Rockerz 255</td>\n",
              "    </tr>\n",
              "    <tr>\n",
              "        <td style=\"padding-left: 1em; padding-right: 1em; text-align: center; vertical-align: top\">Great sound with worst<br>mic.\\n ...</td>\n",
              "        <td style=\"padding-left: 1em; padding-right: 1em; text-align: center; vertical-align: top\">After one month usage<br>reviewing this .Pros-1- ...</td>\n",
              "        <td style=\"padding-left: 1em; padding-right: 1em; text-align: center; vertical-align: top\">3</td>\n",
              "        <td style=\"padding-left: 1em; padding-right: 1em; text-align: center; vertical-align: top\">boAt Rockerz 255</td>\n",
              "    </tr>\n",
              "    <tr>\n",
              "        <td style=\"padding-left: 1em; padding-right: 1em; text-align: center; vertical-align: top\">Battery life is good<br>enough to keep going all ...</td>\n",
              "        <td style=\"padding-left: 1em; padding-right: 1em; text-align: center; vertical-align: top\">I can’t get enough of<br>this earphone! The bass ...</td>\n",
              "        <td style=\"padding-left: 1em; padding-right: 1em; text-align: center; vertical-align: top\">5</td>\n",
              "        <td style=\"padding-left: 1em; padding-right: 1em; text-align: center; vertical-align: top\">boAt Rockerz 255</td>\n",
              "    </tr>\n",
              "    <tr>\n",
              "        <td style=\"padding-left: 1em; padding-right: 1em; text-align: center; vertical-align: top\">Very very bad Durabity\\n</td>\n",
              "        <td style=\"padding-left: 1em; padding-right: 1em; text-align: center; vertical-align: top\">The product durability is<br>1 month..I just lost my ...</td>\n",
              "        <td style=\"padding-left: 1em; padding-right: 1em; text-align: center; vertical-align: top\">1</td>\n",
              "        <td style=\"padding-left: 1em; padding-right: 1em; text-align: center; vertical-align: top\">boAt Rockerz 255</td>\n",
              "    </tr>\n",
              "</table>\n",
              "<table frame=\"box\" rules=\"cols\">\n",
              "    <tr>\n",
              "        <th style=\"padding-left: 1em; padding-right: 1em; text-align: center\">word_count</th>\n",
              "    </tr>\n",
              "    <tr>\n",
              "        <td style=\"padding-left: 1em; padding-right: 1em; text-align: center; vertical-align: top\">{&#x27;voice&#x27;: 1.0,<br>&#x27;complaining&#x27;: 1.0, ...</td>\n",
              "    </tr>\n",
              "    <tr>\n",
              "        <td style=\"padding-left: 1em; padding-right: 1em; text-align: center; vertical-align: top\">{&#x27;thanks&#x27;: 1.0,<br>&#x27;buying\\u200b&#x27;: 1.0, ...</td>\n",
              "    </tr>\n",
              "    <tr>\n",
              "        <td style=\"padding-left: 1em; padding-right: 1em; text-align: center; vertical-align: top\">{&#x27;ear&#x27;: 1.0,<br>&#x27;comfortable&#x27;: 1.0, ...</td>\n",
              "    </tr>\n",
              "    <tr>\n",
              "        <td style=\"padding-left: 1em; padding-right: 1em; text-align: center; vertical-align: top\">{&#x27;undergoing&#x27;: 1.0,<br>&#x27;still&#x27;: 1.0, &#x27;warren ...</td>\n",
              "    </tr>\n",
              "    <tr>\n",
              "        <td style=\"padding-left: 1em; padding-right: 1em; text-align: center; vertical-align: top\">{&#x27;much&#x27;: 1.0, &#x27;than&#x27;:<br>1.0, &#x27;flipcart&#x27;: 1.0, ...</td>\n",
              "    </tr>\n",
              "    <tr>\n",
              "        <td style=\"padding-left: 1em; padding-right: 1em; text-align: center; vertical-align: top\">{&#x27;send&#x27;: 1.0, &#x27;new&#x27;: 1.0,<br>&#x27;boat&#x27;: 1.0, &#x27;mon&#x27;: 1.0, ...</td>\n",
              "    </tr>\n",
              "    <tr>\n",
              "        <td style=\"padding-left: 1em; padding-right: 1em; text-align: center; vertical-align: top\">{&#x27;no&#x27;: 1.0, &#x27;there&#x27;: 1.0,<br>&#x27;was&#x27;: 2.0, &#x27;price&#x27;:  ...</td>\n",
              "    </tr>\n",
              "    <tr>\n",
              "        <td style=\"padding-left: 1em; padding-right: 1em; text-align: center; vertical-align: top\">{&#x27;too&#x27;: 1.0, &#x27;music&#x27;:<br>1.0, &#x27;riding&#x27;: 1.0, &#x27; ...</td>\n",
              "    </tr>\n",
              "    <tr>\n",
              "        <td style=\"padding-left: 1em; padding-right: 1em; text-align: center; vertical-align: top\">{&#x27;lovers&#x27;: 1.0, &#x27;must&#x27;:<br>1.0, &#x27;down&#x27;: 1.0, &#x27;let&#x27;: ...</td>\n",
              "    </tr>\n",
              "    <tr>\n",
              "        <td style=\"padding-left: 1em; padding-right: 1em; text-align: center; vertical-align: top\">{&#x27;replacement&#x27;: 1.0,<br>&#x27;site&#x27;: 1.0, &#x27;s&#x27;: 1.0, ...</td>\n",
              "    </tr>\n",
              "</table>\n",
              "[10 rows x 5 columns]<br/>\n",
              "</div>"
            ],
            "text/plain": [
              "Columns:\n",
              "\tReviewTitle\tstr\n",
              "\tReviewBody\tstr\n",
              "\tReviewStar\tint\n",
              "\tProduct\tstr\n",
              "\tword_count\tdict\n",
              "\n",
              "Rows: 10\n",
              "\n",
              "Data:\n",
              "+--------------------------------+-------------------------------+------------+\n",
              "|          ReviewTitle           |           ReviewBody          | ReviewStar |\n",
              "+--------------------------------+-------------------------------+------------+\n",
              "| Honest review of an edm mu...  | No doubt it has a great ba... |     3      |\n",
              "| Unreliable earphones with ...  | This  earphones are unreli... |     1      |\n",
              "|   Really good and durable.\\n   | i bought itfor 999,I purch... |     4      |\n",
              "| stopped working in just 14...  | Its sound quality is adora... |     1      |\n",
              "| Just Awesome Wireless Head...  | Its Awesome... Good sound ... |     5      |\n",
              "|  Charging port not working\\n   | After 11 days, the chargin... |     1      |\n",
              "| Loved the color and sound !!\\n | Sound-4.5/5Build quality-4... |     4      |\n",
              "| Great sound with worst mic.\\n  | After one month usage revi... |     3      |\n",
              "| Battery life is good enoug...  | I can’t get enough of this... |     5      |\n",
              "|    Very very bad Durabity\\n    | The product durability is ... |     1      |\n",
              "+--------------------------------+-------------------------------+------------+\n",
              "+------------------+-------------------------------+\n",
              "|     Product      |           word_count          |\n",
              "+------------------+-------------------------------+\n",
              "| boAt Rockerz 255 | {'voice': 1.0, 'complainin... |\n",
              "| boAt Rockerz 255 | {'thanks': 1.0, 'buying\\u2... |\n",
              "| boAt Rockerz 255 | {'ear': 1.0, 'comfortable'... |\n",
              "| boAt Rockerz 255 | {'undergoing': 1.0, 'still... |\n",
              "| boAt Rockerz 255 | {'much': 1.0, 'than': 1.0,... |\n",
              "| boAt Rockerz 255 | {'send': 1.0, 'new': 1.0, ... |\n",
              "| boAt Rockerz 255 | {'no': 1.0, 'there': 1.0, ... |\n",
              "| boAt Rockerz 255 | {'too': 1.0, 'music': 1.0,... |\n",
              "| boAt Rockerz 255 | {'lovers': 1.0, 'must': 1.... |\n",
              "| boAt Rockerz 255 | {'replacement': 1.0, 'site... |\n",
              "+------------------+-------------------------------+\n",
              "[10 rows x 5 columns]"
            ]
          },
          "metadata": {},
          "execution_count": 5
        }
      ]
    },
    {
      "cell_type": "code",
      "metadata": {
        "id": "AxWrQU0xSh3X",
        "colab": {
          "base_uri": "https://localhost:8080/",
          "height": 809
        },
        "outputId": "c20bacf3-a047-4080-dfff-b83f0de6609f"
      },
      "source": [
        "sf['Product'].show()"
      ],
      "execution_count": null,
      "outputs": [
        {
          "output_type": "display_data",
          "data": {
            "text/html": [
              "<pre>Materializing SArray</pre>"
            ],
            "text/plain": [
              "Materializing SArray"
            ]
          },
          "metadata": {}
        },
        {
          "output_type": "display_data",
          "data": {
            "text/html": [
              "<html>                 <body>                     <iframe style=\"border:0;margin:0\" width=\"920\" height=\"770\" srcdoc='<html lang=\"en\">                         <head>                             <script src=\"https://cdnjs.cloudflare.com/ajax/libs/vega/5.4.0/vega.js\"></script>                             <script src=\"https://cdnjs.cloudflare.com/ajax/libs/vega-embed/4.0.0/vega-embed.js\"></script>                             <script src=\"https://cdnjs.cloudflare.com/ajax/libs/vega-tooltip/0.5.1/vega-tooltip.min.js\"></script>                             <link rel=\"stylesheet\" type=\"text/css\" href=\"https://cdnjs.cloudflare.com/ajax/libs/vega-tooltip/0.5.1/vega-tooltip.min.css\">                             <style>                             .vega-actions > a{                                 color:white;                                 text-decoration: none;                                 font-family: \"Arial\";                                 cursor:pointer;                                 padding:5px;                                 background:#AAAAAA;                                 border-radius:4px;                                 padding-left:10px;                                 padding-right:10px;                                 margin-right:5px;                             }                             .vega-actions{                                 margin-top:20px;                                 text-align:center                             }                            .vega-actions > a{                                 background:#999999;                            }                             </style>                         </head>                         <body>                             <div id=\"vis\">                             </div>                             <script>                                 var vega_json = \"{\\\"$schema\\\": \\\"https://vega.github.io/schema/vega/v4.json\\\", \\\"autosize\\\": {\\\"type\\\": \\\"fit\\\", \\\"resize\\\": false, \\\"contains\\\": \\\"padding\\\"}, \\\"padding\\\": 8, \\\"metadata\\\": {\\\"bubbleOpts\\\": {\\\"showAllFields\\\": false, \\\"fields\\\": [{\\\"field\\\": \\\"count\\\"}, {\\\"field\\\": \\\"label\\\"}, {\\\"field\\\": \\\"percentage\\\"}]}}, \\\"width\\\": 720, \\\"height\\\": 550, \\\"title\\\": \\\"Distribution of Values [string]\\\", \\\"style\\\": \\\"cell\\\", \\\"data\\\": [{\\\"name\\\": \\\"pts_store_store\\\"}, {\\\"name\\\": \\\"source_2\\\", \\\"values\\\": [{\\\"label\\\": \\\"Sennheiser CX 6.0BT\\\", \\\"label_idx\\\": 0, \\\"count\\\": 5000, \\\"percentage\\\": \\\"34.8748%\\\"}, {\\\"label\\\": \\\"boAt Rockerz 255\\\", \\\"label_idx\\\": 1, \\\"count\\\": 5000, \\\"percentage\\\": \\\"34.8748%\\\"}, {\\\"label\\\": \\\"JBL T110BT\\\", \\\"label_idx\\\": 2, \\\"count\\\": 1922, \\\"percentage\\\": \\\"13.4059%\\\"}, {\\\"label\\\": \\\"JBL T205BT\\\", \\\"label_idx\\\": 3, \\\"count\\\": 1411, \\\"percentage\\\": \\\"9.84167%\\\"}, {\\\"label\\\": \\\"PTron Intunes\\\", \\\"label_idx\\\": 4, \\\"count\\\": 254, \\\"percentage\\\": \\\"1.77164%\\\"}, {\\\"label\\\": \\\"Skullcandy S2PGHW-174\\\", \\\"label_idx\\\": 5, \\\"count\\\": 239, \\\"percentage\\\": \\\"1.66702%\\\"}, {\\\"label\\\": \\\"Samsung EO-BG950CBEIN\\\", \\\"label_idx\\\": 6, \\\"count\\\": 224, \\\"percentage\\\": \\\"1.56239%\\\"}, {\\\"label\\\": \\\"Flybot Wave\\\", \\\"label_idx\\\": 7, \\\"count\\\": 182, \\\"percentage\\\": \\\"1.26944%\\\"}, {\\\"label\\\": \\\"Flybot Boom\\\", \\\"label_idx\\\": 8, \\\"count\\\": 82, \\\"percentage\\\": \\\"0.571947%\\\"}, {\\\"label\\\": \\\"Flybot Beat\\\", \\\"label_idx\\\": 9, \\\"count\\\": 23, \\\"percentage\\\": \\\"0.160424%\\\"}]}, {\\\"name\\\": \\\"data_0\\\", \\\"source\\\": \\\"source_2\\\", \\\"transform\\\": [{\\\"type\\\": \\\"formula\\\", \\\"expr\\\": \\\"toNumber(datum[\\\\\\\"count\\\\\\\"])\\\", \\\"as\\\": \\\"count\\\"}, {\\\"type\\\": \\\"filter\\\", \\\"expr\\\": \\\"datum[\\\\\\\"count\\\\\\\"] !== null &amp;&amp; !isNaN(datum[\\\\\\\"count\\\\\\\"])\\\"}]}], \\\"signals\\\": [{\\\"name\\\": \\\"unit\\\", \\\"value\\\": {}, \\\"on\\\": [{\\\"events\\\": \\\"mousemove\\\", \\\"update\\\": \\\"isTuple(group()) ? group() : unit\\\"}]}, {\\\"name\\\": \\\"pts_store\\\", \\\"update\\\": \\\"data(\\\\\\\"pts_store_store\\\\\\\").length &amp;&amp; {count: data(\\\\\\\"pts_store_store\\\\\\\")[0].values[0]}\\\"}, {\\\"name\\\": \\\"pts_store_tuple\\\", \\\"value\\\": {}, \\\"on\\\": [{\\\"events\\\": [{\\\"source\\\": \\\"scope\\\", \\\"type\\\": \\\"click\\\"}], \\\"update\\\": \\\"datum &amp;&amp; item().mark.marktype !== &apos;group&apos; ? {unit: \\\\\\\"\\\\\\\", encodings: [\\\\\\\"x\\\\\\\"], fields: [\\\\\\\"count\\\\\\\"], values: [datum[\\\\\\\"count\\\\\\\"]]} : null\\\", \\\"force\\\": true}]}, {\\\"name\\\": \\\"pts_store_modify\\\", \\\"on\\\": [{\\\"events\\\": {\\\"signal\\\": \\\"pts_store_tuple\\\"}, \\\"update\\\": \\\"modify(\\\\\\\"pts_store_store\\\\\\\", pts_store_tuple, true)\\\"}]}], \\\"marks\\\": [{\\\"name\\\": \\\"marks\\\", \\\"type\\\": \\\"rect\\\", \\\"style\\\": [\\\"bar\\\"], \\\"from\\\": {\\\"data\\\": \\\"data_0\\\"}, \\\"encode\\\": {\\\"hover\\\": {\\\"fill\\\": {\\\"value\\\": \\\"#7EC2F3\\\"}}, \\\"update\\\": {\\\"x\\\": {\\\"scale\\\": \\\"x\\\", \\\"field\\\": \\\"count\\\"}, \\\"x2\\\": {\\\"scale\\\": \\\"x\\\", \\\"value\\\": 0}, \\\"y\\\": {\\\"scale\\\": \\\"y\\\", \\\"field\\\": \\\"label\\\"}, \\\"height\\\": {\\\"scale\\\": \\\"y\\\", \\\"band\\\": true}, \\\"fill\\\": {\\\"value\\\": \\\"#108EE9\\\"}}}}], \\\"scales\\\": [{\\\"name\\\": \\\"x\\\", \\\"type\\\": \\\"linear\\\", \\\"domain\\\": {\\\"data\\\": \\\"data_0\\\", \\\"field\\\": \\\"count\\\"}, \\\"range\\\": [0, {\\\"signal\\\": \\\"width\\\"}], \\\"nice\\\": true, \\\"zero\\\": true}, {\\\"name\\\": \\\"y\\\", \\\"type\\\": \\\"band\\\", \\\"domain\\\": {\\\"data\\\": \\\"data_0\\\", \\\"field\\\": \\\"label\\\", \\\"sort\\\": {\\\"op\\\": \\\"mean\\\", \\\"field\\\": \\\"label_idx\\\", \\\"order\\\": \\\"descending\\\"}}, \\\"range\\\": [{\\\"signal\\\": \\\"height\\\"}, 0], \\\"paddingInner\\\": 0.1, \\\"paddingOuter\\\": 0.05}], \\\"axes\\\": [{\\\"orient\\\": \\\"top\\\", \\\"scale\\\": \\\"x\\\", \\\"labelOverlap\\\": true, \\\"tickCount\\\": {\\\"signal\\\": \\\"ceil(width/40)\\\"}, \\\"title\\\": \\\"Count\\\", \\\"zindex\\\": 1}, {\\\"orient\\\": \\\"top\\\", \\\"scale\\\": \\\"x\\\", \\\"domain\\\": false, \\\"grid\\\": true, \\\"labels\\\": false, \\\"maxExtent\\\": 0, \\\"minExtent\\\": 0, \\\"tickCount\\\": {\\\"signal\\\": \\\"ceil(width/40)\\\"}, \\\"ticks\\\": false, \\\"zindex\\\": 0, \\\"gridScale\\\": \\\"y\\\"}, {\\\"scale\\\": \\\"y\\\", \\\"labelOverlap\\\": true, \\\"orient\\\": \\\"left\\\", \\\"title\\\": \\\"Values\\\", \\\"zindex\\\": 1}], \\\"config\\\": {\\\"axis\\\": {\\\"gridColor\\\": \\\"rgba(204,204,204,1.0)\\\", \\\"labelFont\\\": \\\"\\\\\\\"San Francisco\\\\\\\", HelveticaNeue, Arial\\\", \\\"labelFontSize\\\": 12, \\\"labelPadding\\\": 10, \\\"labelColor\\\": \\\"rgba(0,0,0,0.847)\\\", \\\"tickColor\\\": \\\"rgb(136,136,136)\\\", \\\"titleFont\\\": \\\"\\\\\\\"San Francisco\\\\\\\", HelveticaNeue, Arial\\\", \\\"titleFontWeight\\\": \\\"normal\\\", \\\"titlePadding\\\": 20, \\\"titleFontSize\\\": 14, \\\"titleColor\\\": \\\"rgba(0,0,0,0.847)\\\"}, \\\"axisY\\\": {\\\"minExtent\\\": 30}, \\\"legend\\\": {\\\"labelFont\\\": \\\"\\\\\\\"San Francisco\\\\\\\", HelveticaNeue, Arial\\\", \\\"labelColor\\\": \\\"rgba(0,0,0,0.847)\\\", \\\"titleFont\\\": \\\"\\\\\\\"San Francisco\\\\\\\", HelveticaNeue, Arial\\\", \\\"cornerRadius\\\": 30, \\\"gradientLength\\\": 608, \\\"titleColor\\\": \\\"rgba(0,0,0,0.847)\\\"}, \\\"range\\\": {\\\"heatmap\\\": {\\\"scheme\\\": \\\"greenblue\\\"}}, \\\"style\\\": {\\\"rect\\\": {\\\"stroke\\\": \\\"rgba(200, 200, 200, 0.5)\\\"}, \\\"cell\\\": {\\\"stroke\\\": \\\"transparent\\\"}, \\\"group-title\\\": {\\\"fontSize\\\": 29, \\\"font\\\": \\\"HelveticaNeue, Arial\\\", \\\"fontWeight\\\": \\\"normal\\\", \\\"fill\\\": \\\"rgba(0,0,0,0.65)\\\"}}, \\\"title\\\": {\\\"color\\\": \\\"rgba(0,0,0,0.847)\\\", \\\"font\\\": \\\"\\\\\\\"San Francisco\\\\\\\", HelveticaNeue, Arial\\\", \\\"fontSize\\\": 18, \\\"fontWeight\\\": \\\"normal\\\", \\\"offset\\\": 30}}}\";                                 var vega_json_parsed = JSON.parse(vega_json);                                 var toolTipOpts = {                                     showAllFields: true                                 };                                 if(vega_json_parsed[\"metadata\"] != null){                                     if(vega_json_parsed[\"metadata\"][\"bubbleOpts\"] != null){                                         toolTipOpts = vega_json_parsed[\"metadata\"][\"bubbleOpts\"];                                     };                                 };                                 vegaEmbed(\"#vis\", vega_json_parsed).then(function (result) {                                     vegaTooltip.vega(result.view, toolTipOpts);                                  });                             </script>                         </body>                     </html>' src=\"demo_iframe_srcdoc.htm\">                         <p>Your browser does not support iframes.</p>                     </iframe>                 </body>             </html>"
            ],
            "text/plain": [
              "<IPython.core.display.HTML object>"
            ]
          },
          "metadata": {}
        }
      ]
    },
    {
      "cell_type": "code",
      "metadata": {
        "id": "s0S9oU-OTrBf"
      },
      "source": [
        "boat_review=sf[sf['Product']=='boAt Rockerz 255']\n",
        "len(boat_review)"
      ],
      "execution_count": null,
      "outputs": []
    },
    {
      "cell_type": "code",
      "metadata": {
        "id": "e8pxDo1Mof3O"
      },
      "source": [
        "jbl_review=sf[sf['Product']=='JBL T110BT']\n",
        "jbl_review['ReviewStar'].mean()\n"
      ],
      "execution_count": null,
      "outputs": []
    },
    {
      "cell_type": "code",
      "metadata": {
        "id": "mFWCfatPU5La"
      },
      "source": [
        "boat_review['ReviewStar'].mean()\n",
        "# dir(boat_review['ReviewStar'])"
      ],
      "execution_count": null,
      "outputs": []
    },
    {
      "cell_type": "code",
      "metadata": {
        "id": "1xtu0dqGXRI6"
      },
      "source": [
        "boat_review.head(2)\n"
      ],
      "execution_count": null,
      "outputs": []
    },
    {
      "cell_type": "code",
      "metadata": {
        "colab": {
          "base_uri": "https://localhost:8080/",
          "height": 92
        },
        "id": "d3Fv8YxGpj3B",
        "outputId": "a4ce6b77-a21e-4aed-8227-de54b316c64a"
      },
      "source": [
        "# jbl_review.head(1)"
      ],
      "execution_count": null,
      "outputs": [
        {
          "output_type": "execute_result",
          "data": {
            "text/html": [
              "<div style=\"max-height:1000px;max-width:1500px;overflow:auto;\"><table frame=\"box\" rules=\"cols\">\n",
              "    <tr>\n",
              "        <th style=\"padding-left: 1em; padding-right: 1em; text-align: center\">ReviewTitle</th>\n",
              "        <th style=\"padding-left: 1em; padding-right: 1em; text-align: center\">ReviewBody</th>\n",
              "        <th style=\"padding-left: 1em; padding-right: 1em; text-align: center\">ReviewStar</th>\n",
              "        <th style=\"padding-left: 1em; padding-right: 1em; text-align: center\">Product</th>\n",
              "        <th style=\"padding-left: 1em; padding-right: 1em; text-align: center\">word_count</th>\n",
              "        <th style=\"padding-left: 1em; padding-right: 1em; text-align: center\">sentiments</th>\n",
              "    </tr>\n",
              "    <tr>\n",
              "        <td style=\"padding-left: 1em; padding-right: 1em; text-align: center; vertical-align: top\">Substandard audio<br>quality\\n ...</td>\n",
              "        <td style=\"padding-left: 1em; padding-right: 1em; text-align: center; vertical-align: top\">Please do not buy this.<br>Wired earphones worth ...</td>\n",
              "        <td style=\"padding-left: 1em; padding-right: 1em; text-align: center; vertical-align: top\">2</td>\n",
              "        <td style=\"padding-left: 1em; padding-right: 1em; text-align: center; vertical-align: top\">JBL T110BT</td>\n",
              "        <td style=\"padding-left: 1em; padding-right: 1em; text-align: center; vertical-align: top\">{&#x27;within&#x27;: 1.0,<br>&#x27;product&#x27;: 1.0, &#x27;the&#x27;: ...</td>\n",
              "        <td style=\"padding-left: 1em; padding-right: 1em; text-align: center; vertical-align: top\">0</td>\n",
              "    </tr>\n",
              "</table>\n",
              "[1 rows x 6 columns]<br/>\n",
              "</div>"
            ],
            "text/plain": [
              "Columns:\n",
              "\tReviewTitle\tstr\n",
              "\tReviewBody\tstr\n",
              "\tReviewStar\tint\n",
              "\tProduct\tstr\n",
              "\tword_count\tdict\n",
              "\tsentiments\tint\n",
              "\n",
              "Rows: 1\n",
              "\n",
              "Data:\n",
              "+-----------------------------+-------------------------------+------------+\n",
              "|         ReviewTitle         |           ReviewBody          | ReviewStar |\n",
              "+-----------------------------+-------------------------------+------------+\n",
              "| Substandard audio quality\\n | Please do not buy this. Wi... |     2      |\n",
              "+-----------------------------+-------------------------------+------------+\n",
              "+------------+-------------------------------+------------+\n",
              "|  Product   |           word_count          | sentiments |\n",
              "+------------+-------------------------------+------------+\n",
              "| JBL T110BT | {'within': 1.0, 'product':... |     0      |\n",
              "+------------+-------------------------------+------------+\n",
              "[1 rows x 6 columns]"
            ]
          },
          "metadata": {},
          "execution_count": 33
        }
      ]
    },
    {
      "cell_type": "markdown",
      "metadata": {
        "id": "KCqWCruPWevH"
      },
      "source": [
        "# **building sentimental classifier**"
      ]
    },
    {
      "cell_type": "code",
      "metadata": {
        "id": "iRopEFDEWj0q"
      },
      "source": [
        "boat_review=boat_review[boat_review['ReviewStar']!=3]\n",
        "# neglected all reviews"
      ],
      "execution_count": null,
      "outputs": []
    },
    {
      "cell_type": "code",
      "metadata": {
        "id": "G6eLPG6bp4XG"
      },
      "source": [
        "# jbl_review=jbl_review[jbl_review['ReviewStar']!=3]"
      ],
      "execution_count": null,
      "outputs": []
    },
    {
      "cell_type": "code",
      "metadata": {
        "colab": {
          "base_uri": "https://localhost:8080/",
          "height": 92
        },
        "id": "RD3qu8m8XtQM",
        "outputId": "439bf443-6b53-4ef4-d733-2d7907f882e0"
      },
      "source": [
        "sf['sentiments']=sf['ReviewStar']>=4\n",
        "sf.head(1)\n",
        "\n"
      ],
      "execution_count": null,
      "outputs": [
        {
          "output_type": "execute_result",
          "data": {
            "text/html": [
              "<div style=\"max-height:1000px;max-width:1500px;overflow:auto;\"><table frame=\"box\" rules=\"cols\">\n",
              "    <tr>\n",
              "        <th style=\"padding-left: 1em; padding-right: 1em; text-align: center\">ReviewTitle</th>\n",
              "        <th style=\"padding-left: 1em; padding-right: 1em; text-align: center\">ReviewBody</th>\n",
              "        <th style=\"padding-left: 1em; padding-right: 1em; text-align: center\">ReviewStar</th>\n",
              "        <th style=\"padding-left: 1em; padding-right: 1em; text-align: center\">Product</th>\n",
              "        <th style=\"padding-left: 1em; padding-right: 1em; text-align: center\">word_count</th>\n",
              "        <th style=\"padding-left: 1em; padding-right: 1em; text-align: center\">sentiments</th>\n",
              "    </tr>\n",
              "    <tr>\n",
              "        <td style=\"padding-left: 1em; padding-right: 1em; text-align: center; vertical-align: top\">Honest review of an edm<br>music lover\\n ...</td>\n",
              "        <td style=\"padding-left: 1em; padding-right: 1em; text-align: center; vertical-align: top\">No doubt it has a great<br>bass and to a great ...</td>\n",
              "        <td style=\"padding-left: 1em; padding-right: 1em; text-align: center; vertical-align: top\">3</td>\n",
              "        <td style=\"padding-left: 1em; padding-right: 1em; text-align: center; vertical-align: top\">boAt Rockerz 255</td>\n",
              "        <td style=\"padding-left: 1em; padding-right: 1em; text-align: center; vertical-align: top\">{&#x27;voice&#x27;: 1.0,<br>&#x27;complaining&#x27;: 1.0, ...</td>\n",
              "        <td style=\"padding-left: 1em; padding-right: 1em; text-align: center; vertical-align: top\">0</td>\n",
              "    </tr>\n",
              "</table>\n",
              "[1 rows x 6 columns]<br/>\n",
              "</div>"
            ],
            "text/plain": [
              "Columns:\n",
              "\tReviewTitle\tstr\n",
              "\tReviewBody\tstr\n",
              "\tReviewStar\tint\n",
              "\tProduct\tstr\n",
              "\tword_count\tdict\n",
              "\tsentiments\tint\n",
              "\n",
              "Rows: 1\n",
              "\n",
              "Data:\n",
              "+-------------------------------+-------------------------------+------------+\n",
              "|          ReviewTitle          |           ReviewBody          | ReviewStar |\n",
              "+-------------------------------+-------------------------------+------------+\n",
              "| Honest review of an edm mu... | No doubt it has a great ba... |     3      |\n",
              "+-------------------------------+-------------------------------+------------+\n",
              "+------------------+-------------------------------+------------+\n",
              "|     Product      |           word_count          | sentiments |\n",
              "+------------------+-------------------------------+------------+\n",
              "| boAt Rockerz 255 | {'voice': 1.0, 'complainin... |     0      |\n",
              "+------------------+-------------------------------+------------+\n",
              "[1 rows x 6 columns]"
            ]
          },
          "metadata": {},
          "execution_count": 12
        }
      ]
    },
    {
      "cell_type": "markdown",
      "metadata": {
        "id": "Yr1y60xZZBFX"
      },
      "source": [
        "# **training sentimental classifier**"
      ]
    },
    {
      "cell_type": "code",
      "metadata": {
        "id": "pQymVuP4ZFTZ"
      },
      "source": [
        "# split data\n",
        "train_data,test_data=sf.random_split(.8,seed=0)"
      ],
      "execution_count": null,
      "outputs": []
    },
    {
      "cell_type": "code",
      "metadata": {
        "id": "J6QvObIna9Jo"
      },
      "source": [
        "sentimental_model=tc.classifier.create(train_data,target='sentiments',features=['word_count'],validation_set=test_data)"
      ],
      "execution_count": null,
      "outputs": []
    },
    {
      "cell_type": "markdown",
      "metadata": {
        "id": "MNaXVWqBcAZ6"
      },
      "source": [
        "# **evaluate model**"
      ]
    },
    {
      "cell_type": "code",
      "metadata": {
        "id": "Bmwt37HccDVk",
        "colab": {
          "base_uri": "https://localhost:8080/"
        },
        "outputId": "64ed21a0-510b-44d7-b396-68caada725a4"
      },
      "source": [
        "sentimental_model.evaluate(test_data,metric='confusion_matrix')\n",
        "# sentimental_model.training_f1_score()\n"
      ],
      "execution_count": null,
      "outputs": [
        {
          "output_type": "execute_result",
          "data": {
            "text/plain": [
              "{'confusion_matrix': Columns:\n",
              " \ttarget_label\tint\n",
              " \tpredicted_label\tint\n",
              " \tcount\tint\n",
              " \n",
              " Rows: 4\n",
              " \n",
              " Data:\n",
              " +--------------+-----------------+-------+\n",
              " | target_label | predicted_label | count |\n",
              " +--------------+-----------------+-------+\n",
              " |      0       |        0        |  732  |\n",
              " |      1       |        1        |  1584 |\n",
              " |      0       |        1        |  214  |\n",
              " |      1       |        0        |  246  |\n",
              " +--------------+-----------------+-------+\n",
              " [4 rows x 3 columns]}"
            ]
          },
          "metadata": {},
          "execution_count": 17
        }
      ]
    },
    {
      "cell_type": "code",
      "metadata": {
        "colab": {
          "base_uri": "https://localhost:8080/"
        },
        "id": "i_XKTfa_iNcq",
        "outputId": "3b5e4790-b95b-4dcf-dfed-bc2b023a8b06"
      },
      "source": [
        "# sentimental_model.evaluate('accuracy')\n",
        "sentimental_model.evaluate(test_data,metric='accuracy')"
      ],
      "execution_count": null,
      "outputs": [
        {
          "output_type": "execute_result",
          "data": {
            "text/plain": [
              "{'accuracy': 0.8342939481268011}"
            ]
          },
          "metadata": {},
          "execution_count": 18
        }
      ]
    },
    {
      "cell_type": "code",
      "metadata": {
        "id": "D6WOfiWDdCmA"
      },
      "source": [
        "\n",
        "# dir(sentimental_model)"
      ],
      "execution_count": null,
      "outputs": []
    },
    {
      "cell_type": "code",
      "metadata": {
        "id": "ssruTjKshvOo"
      },
      "source": [
        ""
      ],
      "execution_count": null,
      "outputs": []
    },
    {
      "cell_type": "markdown",
      "metadata": {
        "id": "F90QF4LHh8W7"
      },
      "source": [
        "# **applied learned model to undertsand sentiment of other**"
      ]
    },
    {
      "cell_type": "code",
      "metadata": {
        "id": "gbrNImteqTMS"
      },
      "source": [
        "jbl_review['predicted_sentiment']=sentimental_model.predict(jbl_review,output_type='margin')"
      ],
      "execution_count": null,
      "outputs": []
    },
    {
      "cell_type": "code",
      "metadata": {
        "colab": {
          "base_uri": "https://localhost:8080/",
          "height": 357
        },
        "id": "PD16p3ZTqTPc",
        "outputId": "f41f54a3-3b20-4ee5-cb12-b4e8ded9eb75"
      },
      "source": [
        "jbl_review=jbl_review.sort('predicted_sentiment',ascending=True)\n",
        "jbl_review.head(5)"
      ],
      "execution_count": null,
      "outputs": [
        {
          "output_type": "execute_result",
          "data": {
            "text/html": [
              "<div style=\"max-height:1000px;max-width:1500px;overflow:auto;\"><table frame=\"box\" rules=\"cols\">\n",
              "    <tr>\n",
              "        <th style=\"padding-left: 1em; padding-right: 1em; text-align: center\">ReviewTitle</th>\n",
              "        <th style=\"padding-left: 1em; padding-right: 1em; text-align: center\">ReviewBody</th>\n",
              "        <th style=\"padding-left: 1em; padding-right: 1em; text-align: center\">ReviewStar</th>\n",
              "        <th style=\"padding-left: 1em; padding-right: 1em; text-align: center\">Product</th>\n",
              "        <th style=\"padding-left: 1em; padding-right: 1em; text-align: center\">word_count</th>\n",
              "        <th style=\"padding-left: 1em; padding-right: 1em; text-align: center\">sentiments</th>\n",
              "    </tr>\n",
              "    <tr>\n",
              "        <td style=\"padding-left: 1em; padding-right: 1em; text-align: center; vertical-align: top\">Don&#x27;t waste your money on<br>this piece of crap.\\n ...</td>\n",
              "        <td style=\"padding-left: 1em; padding-right: 1em; text-align: center; vertical-align: top\">This is my personal<br>experience with this ...</td>\n",
              "        <td style=\"padding-left: 1em; padding-right: 1em; text-align: center; vertical-align: top\">1</td>\n",
              "        <td style=\"padding-left: 1em; padding-right: 1em; text-align: center; vertical-align: top\">JBL T110BT</td>\n",
              "        <td style=\"padding-left: 1em; padding-right: 1em; text-align: center; vertical-align: top\">{&#x27;7&#x27;: 1.0, &#x27;s9&#x27;: 1.0,<br>&#x27;5t&#x27;: 1.0, &#x27;ps&#x27;: 1.0, ...</td>\n",
              "        <td style=\"padding-left: 1em; padding-right: 1em; text-align: center; vertical-align: top\">0</td>\n",
              "    </tr>\n",
              "    <tr>\n",
              "        <td style=\"padding-left: 1em; padding-right: 1em; text-align: center; vertical-align: top\">Don&#x27;t go through this<br>mess. Might as well l ...</td>\n",
              "        <td style=\"padding-left: 1em; padding-right: 1em; text-align: center; vertical-align: top\">Listening to your<br>neighbours blasting ...</td>\n",
              "        <td style=\"padding-left: 1em; padding-right: 1em; text-align: center; vertical-align: top\">1</td>\n",
              "        <td style=\"padding-left: 1em; padding-right: 1em; text-align: center; vertical-align: top\">JBL T110BT</td>\n",
              "        <td style=\"padding-left: 1em; padding-right: 1em; text-align: center; vertical-align: top\">{&#x27;only&#x27;: 1.0, &#x27;whole&#x27;:<br>1.0, &#x27;this&#x27;: 1.0, &#x27;wi ...</td>\n",
              "        <td style=\"padding-left: 1em; padding-right: 1em; text-align: center; vertical-align: top\">0</td>\n",
              "    </tr>\n",
              "    <tr>\n",
              "        <td style=\"padding-left: 1em; padding-right: 1em; text-align: center; vertical-align: top\">Breach of faith\\n</td>\n",
              "        <td style=\"padding-left: 1em; padding-right: 1em; text-align: center; vertical-align: top\">Hey guysHighly not<br>recommended productI do ...</td>\n",
              "        <td style=\"padding-left: 1em; padding-right: 1em; text-align: center; vertical-align: top\">1</td>\n",
              "        <td style=\"padding-left: 1em; padding-right: 1em; text-align: center; vertical-align: top\">JBL T110BT</td>\n",
              "        <td style=\"padding-left: 1em; padding-right: 1em; text-align: center; vertical-align: top\">{&#x27;vain&#x27;: 1.0, &#x27;in&#x27;: 1.0,<br>&#x27;go&#x27;: 1.0, &#x27;should&#x27;:  ...</td>\n",
              "        <td style=\"padding-left: 1em; padding-right: 1em; text-align: center; vertical-align: top\">0</td>\n",
              "    </tr>\n",
              "    <tr>\n",
              "        <td style=\"padding-left: 1em; padding-right: 1em; text-align: center; vertical-align: top\">Functional. Not best-in-<br>class sound.\\n ...</td>\n",
              "        <td style=\"padding-left: 1em; padding-right: 1em; text-align: center; vertical-align: top\">Pros: Functional, does<br>the job, fits very well ...</td>\n",
              "        <td style=\"padding-left: 1em; padding-right: 1em; text-align: center; vertical-align: top\">3</td>\n",
              "        <td style=\"padding-left: 1em; padding-right: 1em; text-align: center; vertical-align: top\">JBL T110BT</td>\n",
              "        <td style=\"padding-left: 1em; padding-right: 1em; text-align: center; vertical-align: top\">{&#x27;elsewhere&#x27;: 1.0,<br>&#x27;looks&#x27;: 1.0, &#x27;an&#x27;: 1.0, ...</td>\n",
              "        <td style=\"padding-left: 1em; padding-right: 1em; text-align: center; vertical-align: top\">0</td>\n",
              "    </tr>\n",
              "    <tr>\n",
              "        <td style=\"padding-left: 1em; padding-right: 1em; text-align: center; vertical-align: top\">Serious Pairing issues\\n</td>\n",
              "        <td style=\"padding-left: 1em; padding-right: 1em; text-align: center; vertical-align: top\">there is a serious<br>pairing issues with this ...</td>\n",
              "        <td style=\"padding-left: 1em; padding-right: 1em; text-align: center; vertical-align: top\">1</td>\n",
              "        <td style=\"padding-left: 1em; padding-right: 1em; text-align: center; vertical-align: top\">JBL T110BT</td>\n",
              "        <td style=\"padding-left: 1em; padding-right: 1em; text-align: center; vertical-align: top\">{&#x27;now&#x27;: 1.0, &#x27;jbl&#x27;: 1.0,<br>&#x27;brand&#x27;: 1.0, &#x27;becuase&#x27;: ...</td>\n",
              "        <td style=\"padding-left: 1em; padding-right: 1em; text-align: center; vertical-align: top\">0</td>\n",
              "    </tr>\n",
              "</table>\n",
              "<table frame=\"box\" rules=\"cols\">\n",
              "    <tr>\n",
              "        <th style=\"padding-left: 1em; padding-right: 1em; text-align: center\">predicted_sentiment</th>\n",
              "    </tr>\n",
              "    <tr>\n",
              "        <td style=\"padding-left: 1em; padding-right: 1em; text-align: center; vertical-align: top\">-32.56286719710787</td>\n",
              "    </tr>\n",
              "    <tr>\n",
              "        <td style=\"padding-left: 1em; padding-right: 1em; text-align: center; vertical-align: top\">-28.898426519723827</td>\n",
              "    </tr>\n",
              "    <tr>\n",
              "        <td style=\"padding-left: 1em; padding-right: 1em; text-align: center; vertical-align: top\">-25.12892180319392</td>\n",
              "    </tr>\n",
              "    <tr>\n",
              "        <td style=\"padding-left: 1em; padding-right: 1em; text-align: center; vertical-align: top\">-22.829534165544356</td>\n",
              "    </tr>\n",
              "    <tr>\n",
              "        <td style=\"padding-left: 1em; padding-right: 1em; text-align: center; vertical-align: top\">-22.54918807849353</td>\n",
              "    </tr>\n",
              "</table>\n",
              "[5 rows x 7 columns]<br/>\n",
              "</div>"
            ],
            "text/plain": [
              "Columns:\n",
              "\tReviewTitle\tstr\n",
              "\tReviewBody\tstr\n",
              "\tReviewStar\tint\n",
              "\tProduct\tstr\n",
              "\tword_count\tdict\n",
              "\tsentiments\tint\n",
              "\tpredicted_sentiment\tfloat\n",
              "\n",
              "Rows: 5\n",
              "\n",
              "Data:\n",
              "+-------------------------------+-------------------------------+------------+\n",
              "|          ReviewTitle          |           ReviewBody          | ReviewStar |\n",
              "+-------------------------------+-------------------------------+------------+\n",
              "| Don't waste your money on ... | This is my personal experi... |     1      |\n",
              "| Don't go through this mess... | Listening to your neighbou... |     1      |\n",
              "|       Breach of faith\\n       | Hey guysHighly not recomme... |     1      |\n",
              "| Functional. Not best-in-cl... | Pros: Functional, does the... |     3      |\n",
              "|    Serious Pairing issues\\n   | there is a serious pairing... |     1      |\n",
              "+-------------------------------+-------------------------------+------------+\n",
              "+------------+-------------------------------+------------+---------------------+\n",
              "|  Product   |           word_count          | sentiments | predicted_sentiment |\n",
              "+------------+-------------------------------+------------+---------------------+\n",
              "| JBL T110BT | {'7': 1.0, 's9': 1.0, '5t'... |     0      |  -32.56286719710787 |\n",
              "| JBL T110BT | {'only': 1.0, 'whole': 1.0... |     0      | -28.898426519723827 |\n",
              "| JBL T110BT | {'vain': 1.0, 'in': 1.0, '... |     0      |  -25.12892180319392 |\n",
              "| JBL T110BT | {'elsewhere': 1.0, 'looks'... |     0      | -22.829534165544356 |\n",
              "| JBL T110BT | {'now': 1.0, 'jbl': 1.0, '... |     0      |  -22.54918807849353 |\n",
              "+------------+-------------------------------+------------+---------------------+\n",
              "[5 rows x 7 columns]"
            ]
          },
          "metadata": {},
          "execution_count": 75
        }
      ]
    },
    {
      "cell_type": "code",
      "metadata": {
        "id": "THo6C7hZqTRm"
      },
      "source": [
        "jbl_review.head(5)\n"
      ],
      "execution_count": null,
      "outputs": []
    },
    {
      "cell_type": "code",
      "metadata": {
        "id": "hBCuzqW4qTU0"
      },
      "source": [
        "jbl_review[0]['ReviewBody']"
      ],
      "execution_count": null,
      "outputs": []
    },
    {
      "cell_type": "code",
      "metadata": {
        "id": "hZhOYH4wzipz"
      },
      "source": [
        "jbl_review[-1]['ReviewBody']"
      ],
      "execution_count": null,
      "outputs": []
    },
    {
      "cell_type": "markdown",
      "metadata": {
        "id": "RMsItO8tY_-2"
      },
      "source": [
        ""
      ]
    }
  ]
}